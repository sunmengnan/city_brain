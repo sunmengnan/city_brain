{
 "cells": [
  {
   "cell_type": "markdown",
   "metadata": {},
   "source": [
    "### import package "
   ]
  },
  {
   "cell_type": "code",
   "execution_count": 1,
   "metadata": {},
   "outputs": [],
   "source": [
    "import re"
   ]
  },
  {
   "cell_type": "markdown",
   "metadata": {},
   "source": [
    "### define regular express pattern and load source code which includes the relation part in netconvert"
   ]
  },
  {
   "cell_type": "code",
   "execution_count": 10,
   "metadata": {},
   "outputs": [],
   "source": [
    "patten = re.compile('key == \"(.*)\"')\n",
    "f = open('./data/osm_cpp.txt')\n",
    "data = f.read()"
   ]
  },
  {
   "cell_type": "markdown",
   "metadata": {},
   "source": [
    "### find all keys that are used in source code "
   ]
  },
  {
   "cell_type": "code",
   "execution_count": 5,
   "metadata": {},
   "outputs": [
    {
     "name": "stdout",
     "output_type": "stream",
     "text": [
      "('key == \"type\" || key == \"restriction\"', 'type\" || key == \"restriction')\n",
      "('key == \"type\" && value == \"restriction\"', 'type\" && value == \"restriction')\n",
      "('key == \"type\" && value == \"route\"', 'type\" && value == \"route')\n",
      "('key == \"restriction\"', 'restriction')\n",
      "('key == \"public_transport\"', 'public_transport')\n",
      "('key == \"route\"', 'route')\n",
      "('key == \"name\"', 'name')\n",
      "('key == \"ref\"', 'ref')\n",
      "('key == \"interval\" || key == \"headway\"', 'interval\" || key == \"headway')\n",
      "('key == \"by_night\"', 'by_night')\n"
     ]
    }
   ],
   "source": [
    "result = patten.findall(data)\n",
    "for item in result:\n",
    "    print(item)"
   ]
  }
 ],
 "metadata": {
  "kernelspec": {
   "display_name": "Python 3",
   "language": "python",
   "name": "python3"
  },
  "language_info": {
   "codemirror_mode": {
    "name": "ipython",
    "version": 3
   },
   "file_extension": ".py",
   "mimetype": "text/x-python",
   "name": "python",
   "nbconvert_exporter": "python",
   "pygments_lexer": "ipython3",
   "version": "3.5.2"
  }
 },
 "nbformat": 4,
 "nbformat_minor": 2
}
