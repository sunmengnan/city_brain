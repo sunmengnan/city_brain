{
 "cells": [
  {
   "cell_type": "markdown",
   "metadata": {},
   "source": [
    "### import packages"
   ]
  },
  {
   "cell_type": "code",
   "execution_count": 2,
   "metadata": {},
   "outputs": [],
   "source": [
    "import math\n",
    "import geopy.distance"
   ]
  },
  {
   "cell_type": "markdown",
   "metadata": {},
   "source": [
    "### define dict mapped from angle to quadrant"
   ]
  },
  {
   "cell_type": "code",
   "execution_count": 3,
   "metadata": {},
   "outputs": [],
   "source": [
    "dict_quadrant = {}\n",
    "for i in range(8):\n",
    "    dict_quadrant[(45 * i, 45 * (i + 1))] = i + 1"
   ]
  },
  {
   "cell_type": "markdown",
   "metadata": {},
   "source": [
    "### calculate the distance of two geo points"
   ]
  },
  {
   "cell_type": "code",
   "execution_count": 17,
   "metadata": {},
   "outputs": [],
   "source": [
    "def get_distance(origin_point,new_point):\n",
    "    dist = geopy.distance.distance(origin_point,new_point).km\n",
    "    return dist"
   ]
  },
  {
   "cell_type": "markdown",
   "metadata": {},
   "source": [
    "### mapped from an angle to quadrant"
   ]
  },
  {
   "cell_type": "code",
   "execution_count": 5,
   "metadata": {},
   "outputs": [],
   "source": [
    "def get_quadrant(table, angle):\n",
    "    \"\"\"\n",
    "    get the quadrant according to the table\n",
    "    :param table: dict, mapped angle to quadrant\n",
    "    :param angle: int\n",
    "    :return: int, quadant\n",
    "    \"\"\"\n",
    "    if angle < 0 or angle > 360:\n",
    "        print(\"angle not legal.\")\n",
    "        raise LookupError\n",
    "    for key in table:\n",
    "        if key[0] <= angle < key[1]:\n",
    "            return table[key]\n"
   ]
  },
  {
   "cell_type": "markdown",
   "metadata": {},
   "source": [
    "### calculate degree based on spherial coordinate"
   ]
  },
  {
   "cell_type": "code",
   "execution_count": 10,
   "metadata": {},
   "outputs": [],
   "source": [
    "def angleFromCoordinate(origin_point, new_point):\n",
    "    \"\"\"\n",
    "    :param origin_point: tuple or list, composed of lat1, long1\n",
    "    :param new_point: tuple or list, composed of lat2, long2\n",
    "    :return: int, degree\n",
    "    \"\"\"\n",
    "    lat1, long1 = origin_point[0], origin_point[1]\n",
    "    lat2, long2 = new_point[0], new_point[1]\n",
    "    dLon = (long2 - long1)\n",
    "\n",
    "    y = math.sin(dLon) * math.cos(lat2)\n",
    "    x = math.cos(lat1) * math.sin(lat2) - math.sin(lat1) * math.cos(lat2) * math.cos(dLon)\n",
    "\n",
    "    brng = math.atan2(y, x)\n",
    "\n",
    "    brng = math.degrees(brng)\n",
    "    if brng<0:\n",
    "        brng = 360+brng\n",
    "\n",
    "    return brng"
   ]
  },
  {
   "cell_type": "markdown",
   "metadata": {},
   "source": [
    "### calculate quadrant based on spherial coordinate"
   ]
  },
  {
   "cell_type": "code",
   "execution_count": 7,
   "metadata": {},
   "outputs": [],
   "source": [
    "def quadrantFromCoordinate(origin_point, new_point):\n",
    "    \"\"\"\n",
    "    :param origin_point: tuple or list, composed of lat1, long1\n",
    "    :param new_point: tuple or list, composed of lat2, long2\n",
    "    :return: int, quadrant\n",
    "    \"\"\"\n",
    "    degree = angleFromCoordinate(origin_point, new_point)\n",
    "    return get_quadrant(dict_quadrant, degree)"
   ]
  },
  {
   "cell_type": "markdown",
   "metadata": {},
   "source": [
    "### calculate degree of lines that is composed of multiple nodes, do not consider direction, north direction is default"
   ]
  },
  {
   "cell_type": "code",
   "execution_count": 21,
   "metadata": {},
   "outputs": [],
   "source": [
    "def degree_multilines_nodirection(nodes):\n",
    "    \"\"\"\n",
    "    take the weighted degree of multi degreed lines\n",
    "    :param nodes: list, composed of list or tuple of lat and lon\n",
    "    :return: int, quadrant\n",
    "    \"\"\"\n",
    "    degrees = []\n",
    "    lengths = []\n",
    "    for i in range(len(nodes) - 1):\n",
    "        degrees.append(angleFromCoordinate(nodes[i], nodes[i + 1]))\n",
    "        lengths.append(get_distance(nodes[i], nodes[i + 1]))\n",
    "    degree_ave = sum(m * n for m, n in zip(degrees, lengths)) / sum(lengths)\n",
    "    return get_quadrant(dict_quadrant, degree_ave)\n"
   ]
  },
  {
   "cell_type": "markdown",
   "metadata": {},
   "source": [
    "### test as a concreate example:     wayid = \"392752203\"  node id=\"3959362688\" lat=\"30.1660598\" lon=\"120.2085375\"/>  nodeid=\"3959362689\" lat=\"30.1676474\" lon=\"120.2074530\"/>"
   ]
  },
  {
   "cell_type": "code",
   "execution_count": 22,
   "metadata": {},
   "outputs": [
    {
     "data": {
      "text/plain": [
       "8"
      ]
     },
     "execution_count": 22,
     "metadata": {},
     "output_type": "execute_result"
    }
   ],
   "source": [
    "nodes = [(30.1660598,120.2085375), (30.1676474,120.2074530)]\n",
    "degree_multilines_nodirection(nodes)"
   ]
  },
  {
   "cell_type": "markdown",
   "metadata": {},
   "source": [
    "### take another example,  way id=\"489071249\">nd ref=\"4813517486\"/>nd ref=\"5269370867\"/>nd ref=\"4813517487\"/>nd ref=\"4813517488\"/>nd ref=\"4813517504\"/>"
   ]
  },
  {
   "cell_type": "code",
   "execution_count": 11,
   "metadata": {},
   "outputs": [
    {
     "name": "stderr",
     "output_type": "stream",
     "text": [
      "/usr/local/lib/python3.5/dist-packages/ipykernel_launcher.py:2: DeprecationWarning: Vincenty is deprecated and is going to be removed in geopy 2.0. Use `geopy.distance.geodesic` (or the default `geopy.distance.distance`) instead, which is more accurate and always converges.\n",
      "  \n"
     ]
    },
    {
     "data": {
      "text/plain": [
       "8"
      ]
     },
     "execution_count": 11,
     "metadata": {},
     "output_type": "execute_result"
    }
   ],
   "source": [
    "nodes2 = [(30.1737755,120.1406690),(30.1755130,120.1401495),(30.1775893,120.1394624)]\n",
    "degree_multilines_nodirection(nodes2)"
   ]
  },
  {
   "cell_type": "markdown",
   "metadata": {},
   "source": [
    "### calculate degree of lines that is composed of multiple nodes, also consider direction based on the center point"
   ]
  },
  {
   "cell_type": "code",
   "execution_count": 18,
   "metadata": {},
   "outputs": [],
   "source": [
    "def degree_multilines(origin_point, nodes):\n",
    "    \"\"\"\n",
    "    take the weighted degree of multi degreed lines\n",
    "    :param direction: bool\n",
    "    :param nodes: list\n",
    "    :param origin_point: tuple, the base point\n",
    "    :return: int, weighted degree\n",
    "    \"\"\"\n",
    "\n",
    "    if get_distance(origin_point, nodes[-1]) < get_distance(origin_point, nodes[0]):\n",
    "        nodes = nodes[::-1]\n",
    "    degrees = []\n",
    "    lengths = []\n",
    "    for i in range(len(nodes) - 1):\n",
    "        degrees.append(angleFromCoordinate(nodes[i], nodes[i + 1]))\n",
    "        lengths.append(get_distance(nodes[i], nodes[i + 1]))\n",
    "    degree_ave = sum(m * n for m, n in zip(degrees, lengths)) / sum(lengths)\n",
    "    return get_quadrant(dict_quadrant, degree_ave)"
   ]
  },
  {
   "cell_type": "markdown",
   "metadata": {},
   "source": [
    "### suppose center point is 30.173793, 120.140693, and onther point is  30.178613, 120.139168, one is closer to the end of one lane, and the other is the opposit direction, let's check the result"
   ]
  },
  {
   "cell_type": "code",
   "execution_count": 19,
   "metadata": {},
   "outputs": [
    {
     "data": {
      "text/plain": [
       "8"
      ]
     },
     "execution_count": 19,
     "metadata": {},
     "output_type": "execute_result"
    }
   ],
   "source": [
    "center_point1 = (30.173793, 120.140693)\n",
    "center_point2 = (30.178613, 120.139168)\n",
    "degree_multilines(center_point1,nodes2)"
   ]
  },
  {
   "cell_type": "code",
   "execution_count": 20,
   "metadata": {},
   "outputs": [
    {
     "data": {
      "text/plain": [
       "4"
      ]
     },
     "execution_count": 20,
     "metadata": {},
     "output_type": "execute_result"
    }
   ],
   "source": [
    "degree_multilines(center_point2,nodes2)"
   ]
  }
 ],
 "metadata": {
  "kernelspec": {
   "display_name": "Python 3",
   "language": "python",
   "name": "python3"
  },
  "language_info": {
   "codemirror_mode": {
    "name": "ipython",
    "version": 3
   },
   "file_extension": ".py",
   "mimetype": "text/x-python",
   "name": "python",
   "nbconvert_exporter": "python",
   "pygments_lexer": "ipython3",
   "version": "3.5.2"
  }
 },
 "nbformat": 4,
 "nbformat_minor": 2
}
